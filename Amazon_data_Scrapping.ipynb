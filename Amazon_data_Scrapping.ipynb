{
 "cells": [
  {
   "cell_type": "code",
   "execution_count": 3,
   "metadata": {},
   "outputs": [],
   "source": [
    "import pandas as pd\n",
    "import numpy as np\n",
    "import bs4\n",
    "import requests"
   ]
  },
  {
   "cell_type": "code",
   "execution_count": 1,
   "metadata": {},
   "outputs": [],
   "source": [
    "url=\"https://www.amazon.in/Mens-Shoes-Arrow/s?i=shoes&bbn=1983572031&rh=n%3A1571283031%2Cn%3A1571284031%2Cn%3A1983396031%2Cn%3A1983518031%2Cn%3A1983572031%2Cp_85%3A10440599031%2Cp_89%3AArrow%7CBATA%7CHush+Puppies&lo=visual_grid&dc&qid=1565491603&rnid=3837712031&ref=sr_nr_p_89_27\""
   ]
  },
  {
   "cell_type": "code",
   "execution_count": 5,
   "metadata": {},
   "outputs": [
    {
     "data": {
      "text/plain": [
       "'<!DOCTYPE html>\\n<!--[if lt IE 7]> <html lang=\"en-us\" class=\"a-no-js a-lt-ie9 a-lt-ie8 a-lt-ie7\"> <![endif]-->\\n<!--[if IE 7]>    <html lang=\"en-us\" class=\"a-no-js a-lt-ie9 a-lt-ie8\"> <![endif]-->\\n<!--[if IE 8]>    <html lang=\"en-us\" class=\"a-no-js a-lt-ie9\"> <![endif]-->\\n<!--[if gt IE 8]><!-->\\n<html class=\"a-no-js\" lang=\"en-us\"><!--<![endif]--><head>\\n<meta http-equiv=\"content-type\" content=\"text/html; charset=UTF-8\">\\n<meta charset=\"utf-8\">\\n<meta http-equiv=\"X-UA-Compatible\" content=\"IE=edge,chrome=1\">\\n<title dir=\"ltr\">Robot Check</title>\\n<meta name=\"viewport\" content=\"width=device-width\">\\n<link rel=\"stylesheet\" href=\"https://images-na.ssl-images-amazon.com/images/G/01/AUIClients/AmazonUI-3c913031596ca78a3768f4e934b1cc02ce238101.secure.min._V1_.css\">\\n<script>\\n\\nif (true === true) {\\n    var ue_t0 = (+ new Date()),\\n        ue_csm = window,\\n        ue = { t0: ue_t0, d: function() { return (+new Date() - ue_t0); } },\\n        ue_furl = \"fls-eu.amazon.in\",\\n        ue_mid = \"A21TJRUUN4KGV\",\\n        ue_sid = (document.cookie.match(/session-id=([0-9-]+)/) || [])[1],\\n        ue_sn = \"opfcaptcha.amazon.in\",\\n        ue_id = \\'5M91T7Y9WWA4GNBD44H6\\';\\n}\\n</script>\\n</head>\\n<body>\\n\\n<!--\\n        To discuss automated access to Amazon data please contact api-services-support@amazon.com.\\n        For information about migrating to our APIs refer to our Marketplace APIs at https://developer.amazonservices.in/ref=rm_c_sv, or our Product Advertising API at https://affiliate-program.amazon.in/gp/advertising/api/detail/main.html/ref=rm_c_ac for advertising use cases.\\n-->\\n\\n<!--\\nCorreios.DoNotSend\\n-->\\n\\n<div class=\"a-container a-padding-double-large\" style=\"min-width:350px;padding:44px 0 !important\">\\n\\n    <div class=\"a-row a-spacing-double-large\" style=\"width: 350px; margin: 0 auto\">\\n\\n        <div class=\"a-row a-spacing-medium a-text-center\"><i class=\"a-icon a-logo\"></i></div>\\n\\n        <div class=\"a-box a-alert a-alert-info a-spacing-base\">\\n            <div class=\"a-box-inner\">\\n                <i class=\"a-icon a-icon-alert\"></i>\\n                <h4>Enter the characters you see below</h4>\\n                <p class=\"a-last\">Sorry, we just need to make sure you\\'re not a robot. For best results, please make sure your browser is accepting cookies.</p>\\n                </div>\\n            </div>\\n\\n            <div class=\"a-section\">\\n\\n                <div class=\"a-box a-color-offset-background\">\\n                    <div class=\"a-box-inner a-padding-extra-large\">\\n\\n                        <form method=\"get\" action=\"/errors/validateCaptcha\" name=\"\">\\n                            <input type=hidden name=\"amzn\" value=\"V7dTM+oBstsAJY09iqohDQ==\" /><input type=hidden name=\"amzn-r\" value=\"&#047;Mens&#045;Shoes&#045;Arrow&#047;s?i&#061;shoes&amp;bbn&#061;1983572031&amp;rh&#061;n&#037;3A1571283031&#037;2Cn&#037;3A1571284031&#037;2Cn&#037;3A1983396031&#037;2Cn&#037;3A1983518031&#037;2Cn&#037;3A1983572031&#037;2Cp_85&#037;3A10440599031&#037;2Cp_89&#037;3AArrow&#037;7CBATA&#037;7CHush&#043;Puppies&amp;lo&#061;visual_grid&amp;dc&amp;qid&#061;1565491603&amp;rnid&#061;3837712031&amp;ref&#061;sr_nr_p_89_27\" />\\n                            <div class=\"a-row a-spacing-large\">\\n                                <div class=\"a-box\">\\n                                    <div class=\"a-box-inner\">\\n                                        <h4>Type the characters you see in this image:</h4>\\n                                        <!-- For automated access to price change or offer listing change events,\\n                                             please refer to the MWS Subscription API:\\n                                             https://developer.amazonservices.in/gp/mws/api.html/276-5247872-0590350?ie=UTF8&section=subscriptions&group=subscriptions&version=latest\\n                                        -->\\n                                        <div class=\"a-row a-text-center\">\\n                                            <img src=\"https://images-na.ssl-images-amazon.com/captcha/dddfleoy/Captcha_dziedyfmyv.jpg\">\\n                                        </div>\\n                                        <div class=\"a-row a-spacing-base\">\\n                                            <div class=\"a-row\">\\n                                                <div class=\"a-column a-span6\">\\n                                                </div>\\n                                                <div class=\"a-column a-span6 a-span-last a-text-right\">\\n                                                    <a onclick=\"window.location.reload()\">Try different image</a>\\n                                                </div>\\n                                            </div>\\n                                            <input autocomplete=\"off\" spellcheck=\"false\" placeholder=\"Type characters\" id=\"captchacharacters\" name=\"field-keywords\" class=\"a-span12\" autocapitalize=\"off\" autocorrect=\"off\" type=\"text\">\\n                                        </div>\\n                                    </div>\\n                                </div>\\n                            </div>\\n\\n                            <div class=\"a-section a-spacing-extra-large\">\\n\\n                                <div class=\"a-row\">\\n                                    <span class=\"a-button a-button-primary a-span12\">\\n                                        <span class=\"a-button-inner\">\\n                                            <button type=\"submit\" class=\"a-button-text\">Continue shopping</button>\\n                                        </span>\\n                                    </span>\\n                                </div>\\n\\n                            </div>\\n                        </form>\\n\\n                    </div>\\n                </div>\\n\\n            </div>\\n\\n        </div>\\n\\n        <div class=\"a-divider a-divider-section\"><div class=\"a-divider-inner\"></div></div>\\n\\n        <div class=\"a-text-center a-spacing-small a-size-mini\">\\n            <a href=\"https://www.amazon.in/gp/help/customer/display.html/ref=footer_cou?ie=UTF8&nodeId=200545940\">Conditions of Use &amp; Sale</a>\\n            <span class=\"a-letter-space\"></span>\\n            <span class=\"a-letter-space\"></span>\\n            <span class=\"a-letter-space\"></span>\\n            <span class=\"a-letter-space\"></span>\\n            <a href=\"https://www.amazon.in/gp/help/customer/display.html/ref=footer_privacy?ie=UTF8&nodeId=200534380\">Privacy Notice</a>\\n        </div>\\n\\n        <div class=\"a-text-center a-size-mini a-color-secondary\">\\n          &copy; 1996-2015, Amazon.com, Inc. or its affiliates\\n          <script>\\n           if (true === true) {\\n             document.write(\\'<img src=\"https://fls-eu.amaz\\'+\\'on.in/\\'+\\'1/oc-csi/1/OP/requestId=5M91T7Y9WWA4GNBD44H6&js=1\" />\\');\\n           };\\n          </script>\\n          <noscript>\\n            <img src=\"https://fls-eu.amazon.in/1/oc-csi/1/OP/requestId=5M91T7Y9WWA4GNBD44H6&js=0\" />\\n          </noscript>\\n        </div>\\n    </div>\\n    <script>\\n    if (true === true) {\\n        var elem = document.createElement(\"script\");\\n        elem.src = \"https://images-eu.ssl-images-amazon.com/images/G/01/csminstrumentation/csm-captcha-instrumentation.min._V\" + (+ new Date()) + \"_.js\";\\n        document.getElementsByTagName(\\'head\\')[0].appendChild(elem);\\n    }\\n    </script>\\n</body></html>\\n'"
      ]
     },
     "execution_count": 5,
     "metadata": {},
     "output_type": "execute_result"
    }
   ],
   "source": [
    "page=requests.get(url).text\n",
    "page"
   ]
  },
  {
   "cell_type": "code",
   "execution_count": 6,
   "metadata": {},
   "outputs": [
    {
     "data": {
      "text/plain": [
       "<!DOCTYPE html>\n",
       "\n",
       "<!--[if lt IE 7]> <html lang=\"en-us\" class=\"a-no-js a-lt-ie9 a-lt-ie8 a-lt-ie7\"> <![endif]-->\n",
       "<!--[if IE 7]>    <html lang=\"en-us\" class=\"a-no-js a-lt-ie9 a-lt-ie8\"> <![endif]-->\n",
       "<!--[if IE 8]>    <html lang=\"en-us\" class=\"a-no-js a-lt-ie9\"> <![endif]-->\n",
       "<!--[if gt IE 8]><!-->\n",
       "<html class=\"a-no-js\" lang=\"en-us\"><!--<![endif]--><head>\n",
       "<meta content=\"text/html; charset=utf-8\" http-equiv=\"content-type\"/>\n",
       "<meta charset=\"utf-8\"/>\n",
       "<meta content=\"IE=edge,chrome=1\" http-equiv=\"X-UA-Compatible\"/>\n",
       "<title dir=\"ltr\">Robot Check</title>\n",
       "<meta content=\"width=device-width\" name=\"viewport\"/>\n",
       "<link href=\"https://images-na.ssl-images-amazon.com/images/G/01/AUIClients/AmazonUI-3c913031596ca78a3768f4e934b1cc02ce238101.secure.min._V1_.css\" rel=\"stylesheet\"/>\n",
       "<script>\n",
       "\n",
       "if (true === true) {\n",
       "    var ue_t0 = (+ new Date()),\n",
       "        ue_csm = window,\n",
       "        ue = { t0: ue_t0, d: function() { return (+new Date() - ue_t0); } },\n",
       "        ue_furl = \"fls-eu.amazon.in\",\n",
       "        ue_mid = \"A21TJRUUN4KGV\",\n",
       "        ue_sid = (document.cookie.match(/session-id=([0-9-]+)/) || [])[1],\n",
       "        ue_sn = \"opfcaptcha.amazon.in\",\n",
       "        ue_id = '5M91T7Y9WWA4GNBD44H6';\n",
       "}\n",
       "</script>\n",
       "</head>\n",
       "<body>\n",
       "<!--\n",
       "        To discuss automated access to Amazon data please contact api-services-support@amazon.com.\n",
       "        For information about migrating to our APIs refer to our Marketplace APIs at https://developer.amazonservices.in/ref=rm_c_sv, or our Product Advertising API at https://affiliate-program.amazon.in/gp/advertising/api/detail/main.html/ref=rm_c_ac for advertising use cases.\n",
       "-->\n",
       "<!--\n",
       "Correios.DoNotSend\n",
       "-->\n",
       "<div class=\"a-container a-padding-double-large\" style=\"min-width:350px;padding:44px 0 !important\">\n",
       "<div class=\"a-row a-spacing-double-large\" style=\"width: 350px; margin: 0 auto\">\n",
       "<div class=\"a-row a-spacing-medium a-text-center\"><i class=\"a-icon a-logo\"></i></div>\n",
       "<div class=\"a-box a-alert a-alert-info a-spacing-base\">\n",
       "<div class=\"a-box-inner\">\n",
       "<i class=\"a-icon a-icon-alert\"></i>\n",
       "<h4>Enter the characters you see below</h4>\n",
       "<p class=\"a-last\">Sorry, we just need to make sure you're not a robot. For best results, please make sure your browser is accepting cookies.</p>\n",
       "</div>\n",
       "</div>\n",
       "<div class=\"a-section\">\n",
       "<div class=\"a-box a-color-offset-background\">\n",
       "<div class=\"a-box-inner a-padding-extra-large\">\n",
       "<form action=\"/errors/validateCaptcha\" method=\"get\" name=\"\">\n",
       "<input name=\"amzn\" type=\"hidden\" value=\"V7dTM+oBstsAJY09iqohDQ==\"/><input name=\"amzn-r\" type=\"hidden\" value=\"/Mens-Shoes-Arrow/s?i=shoes&amp;bbn=1983572031&amp;rh=n%3A1571283031%2Cn%3A1571284031%2Cn%3A1983396031%2Cn%3A1983518031%2Cn%3A1983572031%2Cp_85%3A10440599031%2Cp_89%3AArrow%7CBATA%7CHush+Puppies&amp;lo=visual_grid&amp;dc&amp;qid=1565491603&amp;rnid=3837712031&amp;ref=sr_nr_p_89_27\"/>\n",
       "<div class=\"a-row a-spacing-large\">\n",
       "<div class=\"a-box\">\n",
       "<div class=\"a-box-inner\">\n",
       "<h4>Type the characters you see in this image:</h4>\n",
       "<!-- For automated access to price change or offer listing change events,\n",
       "                                             please refer to the MWS Subscription API:\n",
       "                                             https://developer.amazonservices.in/gp/mws/api.html/276-5247872-0590350?ie=UTF8&section=subscriptions&group=subscriptions&version=latest\n",
       "                                        -->\n",
       "<div class=\"a-row a-text-center\">\n",
       "<img src=\"https://images-na.ssl-images-amazon.com/captcha/dddfleoy/Captcha_dziedyfmyv.jpg\"/>\n",
       "</div>\n",
       "<div class=\"a-row a-spacing-base\">\n",
       "<div class=\"a-row\">\n",
       "<div class=\"a-column a-span6\">\n",
       "</div>\n",
       "<div class=\"a-column a-span6 a-span-last a-text-right\">\n",
       "<a onclick=\"window.location.reload()\">Try different image</a>\n",
       "</div>\n",
       "</div>\n",
       "<input autocapitalize=\"off\" autocomplete=\"off\" autocorrect=\"off\" class=\"a-span12\" id=\"captchacharacters\" name=\"field-keywords\" placeholder=\"Type characters\" spellcheck=\"false\" type=\"text\"/>\n",
       "</div>\n",
       "</div>\n",
       "</div>\n",
       "</div>\n",
       "<div class=\"a-section a-spacing-extra-large\">\n",
       "<div class=\"a-row\">\n",
       "<span class=\"a-button a-button-primary a-span12\">\n",
       "<span class=\"a-button-inner\">\n",
       "<button class=\"a-button-text\" type=\"submit\">Continue shopping</button>\n",
       "</span>\n",
       "</span>\n",
       "</div>\n",
       "</div>\n",
       "</form>\n",
       "</div>\n",
       "</div>\n",
       "</div>\n",
       "</div>\n",
       "<div class=\"a-divider a-divider-section\"><div class=\"a-divider-inner\"></div></div>\n",
       "<div class=\"a-text-center a-spacing-small a-size-mini\">\n",
       "<a href=\"https://www.amazon.in/gp/help/customer/display.html/ref=footer_cou?ie=UTF8&amp;nodeId=200545940\">Conditions of Use &amp; Sale</a>\n",
       "<span class=\"a-letter-space\"></span>\n",
       "<span class=\"a-letter-space\"></span>\n",
       "<span class=\"a-letter-space\"></span>\n",
       "<span class=\"a-letter-space\"></span>\n",
       "<a href=\"https://www.amazon.in/gp/help/customer/display.html/ref=footer_privacy?ie=UTF8&amp;nodeId=200534380\">Privacy Notice</a>\n",
       "</div>\n",
       "<div class=\"a-text-center a-size-mini a-color-secondary\">\n",
       "          © 1996-2015, Amazon.com, Inc. or its affiliates\n",
       "          <script>\n",
       "           if (true === true) {\n",
       "             document.write('<img src=\"https://fls-eu.amaz'+'on.in/'+'1/oc-csi/1/OP/requestId=5M91T7Y9WWA4GNBD44H6&js=1\" />');\n",
       "           };\n",
       "          </script>\n",
       "<noscript>\n",
       "<img src=\"https://fls-eu.amazon.in/1/oc-csi/1/OP/requestId=5M91T7Y9WWA4GNBD44H6&amp;js=0\">\n",
       "</img></noscript>\n",
       "</div>\n",
       "</div>\n",
       "<script>\n",
       "    if (true === true) {\n",
       "        var elem = document.createElement(\"script\");\n",
       "        elem.src = \"https://images-eu.ssl-images-amazon.com/images/G/01/csminstrumentation/csm-captcha-instrumentation.min._V\" + (+ new Date()) + \"_.js\";\n",
       "        document.getElementsByTagName('head')[0].appendChild(elem);\n",
       "    }\n",
       "    </script>\n",
       "</body></html>"
      ]
     },
     "execution_count": 6,
     "metadata": {},
     "output_type": "execute_result"
    }
   ],
   "source": [
    "bsobj=bs4.BeautifulSoup(page,'html.parser')\n",
    "bsobj"
   ]
  },
  {
   "cell_type": "code",
   "execution_count": 8,
   "metadata": {},
   "outputs": [
    {
     "data": {
      "text/plain": [
       "0"
      ]
     },
     "execution_count": 8,
     "metadata": {},
     "output_type": "execute_result"
    }
   ],
   "source": [
    "parents=bsobj.find_all('div',{'class':'sg-col-inner'})\n",
    "len(parents)"
   ]
  },
  {
   "cell_type": "code",
   "execution_count": 64,
   "metadata": {},
   "outputs": [],
   "source": [
    "from  selenium import webdriver\n",
    "browser = webdriver.Chrome('chromedriver.exe')"
   ]
  },
  {
   "cell_type": "code",
   "execution_count": 68,
   "metadata": {},
   "outputs": [],
   "source": [
    "bata_inner_links=[]\n",
    "clarks_inner_links=[]\n",
    "lee_inner_links=[]"
   ]
  },
  {
   "cell_type": "code",
   "execution_count": 71,
   "metadata": {},
   "outputs": [],
   "source": [
    "import time\n",
    "for i in range(1,21):\n",
    "    url=\"https://www.amazon.in/s?i=shoes&bbn=1983572031&rh=n%3A1571283031%2Cn%3A1571284031%2Cn%3A1983396031%2Cn%3A1983518031%2Cn%3A1983572031%2Cp_85%3A10440599031%2Cp_89%3ABATA%7CClarks%7CLee+Cooper&lo=visual_grid&dc&page=\"+str(i)+\"&qid=1565521588&rnid=3837712031&ref=sr_pg_\"+str(i)\n",
    "    browser.get(url)\n",
    "    time.sleep(30)\n",
    "    parents=browser.find_elements_by_css_selector('div.s-expand-height')\n",
    "    \n",
    "    for par in parents:\n",
    "        shoe_name=par.find_element_by_css_selector('span[class=\"a-size-base-plus a-color-base a-text-normal\"]').text\n",
    "        if shoe_name.startswith('BATA'):\n",
    "            bata_inner_links.append(par.find_element_by_css_selector('a[class=\"a-link-normal\"]').get_attribute('href'))\n",
    "        elif shoe_name.startswith('Clarks'):\n",
    "            clarks_inner_links.append(par.find_element_by_css_selector('a[class=\"a-link-normal\"]').get_attribute('href'))\n",
    "        else:\n",
    "            lee_inner_links.append(par.find_element_by_css_selector('a[class=\"a-link-normal\"]').get_attribute('href'))\n",
    "\n",
    "\n",
    "\n"
   ]
  },
  {
   "cell_type": "code",
   "execution_count": null,
   "metadata": {},
   "outputs": [],
   "source": [
    "https://www.amazon.in/s?i=shoes&bbn=1983572031&rh=n%3A1571283031%2Cn%3A1571284031%2Cn%3A1983396031%2Cn%3A1983518031%2Cn%3A1983572031%2Cp_85%3A10440599031%2Cp_89%3ABATA%7CClarks%7CLee+Cooper&lo=visual_grid&dc&page=4&fst=as%3Aoff&qid=1565573172&rnid=3837712031&ref=sr_pg_4"
   ]
  },
  {
   "cell_type": "code",
   "execution_count": 72,
   "metadata": {},
   "outputs": [
    {
     "data": {
      "text/plain": [
       "(449, 266, 246)"
      ]
     },
     "execution_count": 72,
     "metadata": {},
     "output_type": "execute_result"
    }
   ],
   "source": [
    "len(bata_inner_links),len(clarks_inner_links),len(lee_inner_links)"
   ]
  },
  {
   "cell_type": "code",
   "execution_count": 74,
   "metadata": {},
   "outputs": [
    {
     "data": {
      "text/plain": [
       "'https://www.amazon.in/Lee-Cooper-Leather-Formals-LC1679/dp/B00INO7FVW/ref=sr_1_72?qid=1565574812&refinements=p_85%3A10440599031%2Cp_89%3ABATA%7CClarks%7CLee+Cooper&rnid=3837712031&rps=1&s=shoes&sr=1-72'"
      ]
     },
     "execution_count": 74,
     "metadata": {},
     "output_type": "execute_result"
    }
   ],
   "source": [
    "lee_inner_links[1]"
   ]
  },
  {
   "cell_type": "code",
   "execution_count": 133,
   "metadata": {},
   "outputs": [],
   "source": [
    "browser.get('https://www.amazon.in/Lee-Cooper-Leather-Formals-LC1679/dp/B00INO7FVW/ref=sr_1_72?qid=1565574812&refinements=p_85%3A10440599031%2Cp_89%3ABATA%7CClarks%7CLee+Cooper&rnid=3837712031&rps=1&s=shoes&sr=1-72')"
   ]
  },
  {
   "cell_type": "code",
   "execution_count": 132,
   "metadata": {},
   "outputs": [
    {
     "data": {
      "text/plain": [
       "<li class=\"a-spacing-small item imageThumbnail a-declarative\"><span class=\"a-list-item\">\n",
       "<span class=\"a-button a-button-thumbnail a-button-toggle a-button-selected a-button-focus\" id=\"a-autoid-8\"><span class=\"a-button-inner\"><input aria-labelledby=\"a-autoid-8-announce\" class=\"a-button-input\" type=\"submit\"/><span aria-hidden=\"true\" class=\"a-button-text\" id=\"a-autoid-8-announce\">\n",
       "<img src=\"https://images-na.ssl-images-amazon.com/images/I/3165-3CA8gL._US40_.jpg\"/>\n",
       "</span></span></span>\n",
       "</span></li>"
      ]
     },
     "execution_count": 132,
     "metadata": {},
     "output_type": "execute_result"
    }
   ],
   "source": [
    "parent =browser.find_element_by_css_selector('ul[class=\"a-unordered-list a-nostyle a-button-list a-vertical a-spacing-top-extra-large\"]').get_attribute('innerHTML')\n",
    "\n",
    "bsobj=bs4.BeautifulSoup(parent)\n",
    "bsobj.findAll('li',{'class':'a-spacing-small'})[6]"
   ]
  },
  {
   "cell_type": "code",
   "execution_count": 124,
   "metadata": {},
   "outputs": [
    {
     "name": "stdout",
     "output_type": "stream",
     "text": [
      "<selenium.webdriver.remote.webelement.WebElement (session=\"2930b328e058bff21215d74853401ee8\", element=\"4d115a06-c965-412b-8472-e9cdf395e7d7\")>\n"
     ]
    }
   ],
   "source": [
    "for par in parent:\n",
    "    print(par)"
   ]
  },
  {
   "cell_type": "code",
   "execution_count": 59,
   "metadata": {},
   "outputs": [],
   "source": [
    "for i,val in enumerate(bata_links):\n",
    "    if str(i).endswith('5'):\n",
    "        f = open('dataset/bata/validation/Bata'+str(i)+'.jpg','wb')\n",
    "        f.write(requests.get(val).content)\n",
    "        f.close()\n",
    "    elif str(i).endswith('3') or str(i).endswith('7'):\n",
    "        f = open('dataset/bata/test/Bata'+str(i)+'.jpg','wb')\n",
    "        f.write(requests.get(val).content)\n",
    "        f.close()\n",
    "    else:\n",
    "        f = open('dataset/bata/train/Bata'+str(i)+'.jpg','wb')\n",
    "        f.write(requests.get(val).content)\n",
    "        f.close()\n",
    "        \n",
    "        "
   ]
  },
  {
   "cell_type": "code",
   "execution_count": 61,
   "metadata": {},
   "outputs": [],
   "source": [
    "for i,val in enumerate(hush_links):\n",
    "    if str(i).endswith('5'):\n",
    "        f = open('dataset/hush_puppies/validation/hush_puppies'+str(i)+'.jpg','wb')\n",
    "        f.write(requests.get(val).content)\n",
    "        f.close()\n",
    "    elif str(i).endswith('3') or str(i).endswith('7'):\n",
    "        f = open('dataset/hush_puppies/test/hush_puppies'+str(i)+'.jpg','wb')\n",
    "        f.write(requests.get(val).content)\n",
    "        f.close()\n",
    "    else:\n",
    "        f = open('dataset/hush_puppies/train/hush_puppies'+str(i)+'.jpg','wb')\n",
    "        f.write(requests.get(val).content)\n",
    "        f.close()\n",
    "        \n",
    "        "
   ]
  },
  {
   "cell_type": "code",
   "execution_count": 62,
   "metadata": {},
   "outputs": [],
   "source": [
    "for i,val in enumerate(arrow_links):\n",
    "    if str(i).endswith('5'):\n",
    "        f = open('dataset/Arrow/validation/Arrow'+str(i)+'.jpg','wb')\n",
    "        f.write(requests.get(val).content)\n",
    "        f.close()\n",
    "    elif str(i).endswith('3') or str(i).endswith('7'):\n",
    "        f = open('dataset/Arrow/test/Arrow'+str(i)+'.jpg','wb')\n",
    "        f.write(requests.get(val).content)\n",
    "        f.close()\n",
    "    else:\n",
    "        f = open('dataset/Arrow/train/Arrow'+str(i)+'.jpg','wb')\n",
    "        f.write(requests.get(val).content)\n",
    "        f.close()"
   ]
  }
 ],
 "metadata": {
  "kernelspec": {
   "display_name": "Python 3",
   "language": "python",
   "name": "python3"
  },
  "language_info": {
   "codemirror_mode": {
    "name": "ipython",
    "version": 3
   },
   "file_extension": ".py",
   "mimetype": "text/x-python",
   "name": "python",
   "nbconvert_exporter": "python",
   "pygments_lexer": "ipython3",
   "version": "3.7.1"
  }
 },
 "nbformat": 4,
 "nbformat_minor": 2
}
