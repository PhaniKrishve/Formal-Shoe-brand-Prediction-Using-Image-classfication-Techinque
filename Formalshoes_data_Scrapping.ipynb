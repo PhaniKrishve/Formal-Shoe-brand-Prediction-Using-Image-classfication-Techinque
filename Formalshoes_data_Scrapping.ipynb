{
 "cells": [
  {
   "cell_type": "code",
   "execution_count": null,
   "metadata": {},
   "outputs": [],
   "source": [
    "import pandas as pd\n",
    "import numpy as np\n",
    "import bs4\n",
    "import requests"
   ]
  },
  {
   "cell_type": "markdown",
   "metadata": {},
   "source": [
    "# Installing Selenium"
   ]
  },
  {
   "cell_type": "code",
   "execution_count": null,
   "metadata": {},
   "outputs": [],
   "source": [
    "!pip install selenium"
   ]
  },
  {
   "cell_type": "code",
   "execution_count": null,
   "metadata": {},
   "outputs": [],
   "source": [
    "from  selenium import webdriver\n",
    "browser = webdriver.Chrome('chromedriver.exe')"
   ]
  },
  {
   "cell_type": "code",
   "execution_count": null,
   "metadata": {},
   "outputs": [],
   "source": [
    "bata_inner_links=[]\n",
    "clarks_inner_links=[]\n",
    "lee_inner_links=[]"
   ]
  },
  {
   "cell_type": "markdown",
   "metadata": {},
   "source": [
    "# Getting the outer Links to scrape the images"
   ]
  },
  {
   "cell_type": "code",
   "execution_count": null,
   "metadata": {},
   "outputs": [],
   "source": [
    "import time\n",
    "for i in range(1,21):\n",
    "    url=\"https://www.amazon.in/s?i=shoes&bbn=1983572031&rh=n%3A1571283031%2Cn%3A1571284031%2Cn%3A1983396031%2Cn%3A1983518031%2Cn%3A1983572031%2Cp_85%3A10440599031%2Cp_89%3ABATA%7CClarks%7CLee+Cooper&lo=visual_grid&dc&page=\"+str(i)+\"&qid=1565521588&rnid=3837712031&ref=sr_pg_\"+str(i)\n",
    "    browser.get(url)\n",
    "    time.sleep(5)\n",
    "    parents=browser.find_elements_by_css_selector('div.s-expand-height')\n",
    "    \n",
    "    for par in parents:\n",
    "        shoe_name=par.find_element_by_css_selector('span[class=\"a-size-base-plus a-color-base a-text-normal\"]').text\n",
    "        if shoe_name.startswith('BATA'):\n",
    "            bata_inner_links.append(par.find_element_by_css_selector('a[class=\"a-link-normal\"]').get_attribute('href'))\n",
    "        elif shoe_name.startswith('Clarks'):\n",
    "            clarks_inner_links.append(par.find_element_by_css_selector('a[class=\"a-link-normal\"]').get_attribute('href'))\n",
    "        else:\n",
    "            lee_inner_links.append(par.find_element_by_css_selector('a[class=\"a-link-normal\"]').get_attribute('href'))\n",
    "\n",
    "\n",
    "\n"
   ]
  },
  {
   "cell_type": "code",
   "execution_count": null,
   "metadata": {},
   "outputs": [],
   "source": [
    "len(bata_inner_links),len(clarks_inner_links),len(lee_inner_links)"
   ]
  },
  {
   "cell_type": "markdown",
   "metadata": {},
   "source": [
    "# Getting bata Shoe Images"
   ]
  },
  {
   "cell_type": "code",
   "execution_count": null,
   "metadata": {},
   "outputs": [],
   "source": [
    "#prequiste folders needs to eb created are :\n",
    "#dataset/bata/train/\n",
    "#dataset/bata/test/\n",
    "#dataset/bata/validation/\n",
    "for i,val in enumerate(bata_inner_links):\n",
    "    browser.get(val)\n",
    "    time.sleep(5)\n",
    "    #if str(i).endswith('5'):\n",
    "    try:\n",
    "        par=browser.find_element_by_css_selector('div[id=\"altImages\"]').find_elements_by_css_selector('li[class=\"a-spacing-small item imageThumbnail a-declarative\"]')[4]\n",
    "        link=par.find_element_by_css_selector('img').get_attribute('src')\n",
    "        if str(i).endswith('5'):\n",
    "            f = open('dataset/bata/validation/Bata'+str(i)+'.jpg','wb')\n",
    "            f.write(requests.get(link).content)\n",
    "            f.close()\n",
    "        elif str(i).endswith('3') or str(i).endswith('7'):\n",
    "            f = open('dataset/bata/test/Bata'+str(i)+'.jpg','wb')\n",
    "            f.write(requests.get(link).content)\n",
    "            f.close()\n",
    "        else:\n",
    "            f = open('dataset/bata/train/Bata'+str(i)+'.jpg','wb')\n",
    "            f.write(requests.get(link).content)\n",
    "            f.close()\n",
    "    except:\n",
    "        pass\n",
    "    \n",
    "        \n",
    "    "
   ]
  },
  {
   "cell_type": "markdown",
   "metadata": {},
   "source": [
    "# Getting Clark Shoe Images¶"
   ]
  },
  {
   "cell_type": "code",
   "execution_count": null,
   "metadata": {},
   "outputs": [],
   "source": [
    "#prequiste folders needs to eb created are :\n",
    "#dataset/clarks/train/\n",
    "#dataset/clarks/test/\n",
    "#dataset/clarks/validation/\n",
    "for i,val in enumerate(clarks_inner_links):\n",
    "    browser.get(val)\n",
    "    time.sleep(5)\n",
    "    #if str(i).endswith('5'):\n",
    "    try:\n",
    "        par=browser.find_element_by_css_selector('div[id=\"altImages\"]').find_elements_by_css_selector('li[class=\"a-spacing-small item imageThumbnail a-declarative\"]')[4]\n",
    "        link=par.find_element_by_css_selector('img').get_attribute('src')\n",
    "        if str(i).endswith('5'):\n",
    "            f = open('dataset/clarks/validation/clark'+str(i)+'.jpg','wb')\n",
    "            f.write(requests.get(link).content)\n",
    "            f.close()\n",
    "        elif str(i).endswith('3') or str(i).endswith('7'):\n",
    "            f = open('dataset/clarks/test/clark'+str(i)+'.jpg','wb')\n",
    "            f.write(requests.get(link).content)\n",
    "            f.close()\n",
    "        else:\n",
    "            f = open('dataset/clarks/train/clark'+str(i)+'.jpg','wb')\n",
    "            f.write(requests.get(link).content)\n",
    "            f.close()\n",
    "    except:\n",
    "        pass\n",
    "    "
   ]
  },
  {
   "cell_type": "markdown",
   "metadata": {},
   "source": [
    "# Getting Leecooper Shoe Images"
   ]
  },
  {
   "cell_type": "code",
   "execution_count": null,
   "metadata": {},
   "outputs": [],
   "source": [
    "#prequiste folders needs to eb created are :\n",
    "#dataset/leecooper/train/\n",
    "#dataset/leecooper/test/\n",
    "#dataset/leecooper/validation/\n",
    "for i,val in enumerate(lee_inner_links):\n",
    "    browser.get(val)\n",
    "    time.sleep(5)\n",
    "    #if str(i).endswith('5'):\n",
    "    try:\n",
    "        par=browser.find_element_by_css_selector('div[id=\"altImages\"]').find_elements_by_css_selector('li[class=\"a-spacing-small item imageThumbnail a-declarative\"]')[4]\n",
    "        link=par.find_element_by_css_selector('img').get_attribute('src')\n",
    "        if str(i).endswith('5'):\n",
    "            f = open('dataset/leecopper/validation/leecooper'+str(i)+'.jpg','wb')\n",
    "            f.write(requests.get(link).content)\n",
    "            f.close()\n",
    "        elif str(i).endswith('3') or str(i).endswith('7'):\n",
    "            f = open('dataset/leecooper/test/leecooper'+str(i)+'.jpg','wb')\n",
    "            f.write(requests.get(link).content)\n",
    "            f.close()\n",
    "        else:\n",
    "            f = open('dataset/leecooper/train/leecooper'+str(i)+'.jpg','wb')\n",
    "            f.write(requests.get(link).content)\n",
    "            f.close()\n",
    "    except:\n",
    "        pass\n",
    "    "
   ]
  }
 ],
 "metadata": {
  "kernelspec": {
   "display_name": "Python 3",
   "language": "python",
   "name": "python3"
  },
  "language_info": {
   "codemirror_mode": {
    "name": "ipython",
    "version": 3
   },
   "file_extension": ".py",
   "mimetype": "text/x-python",
   "name": "python",
   "nbconvert_exporter": "python",
   "pygments_lexer": "ipython3",
   "version": "3.7.1"
  }
 },
 "nbformat": 4,
 "nbformat_minor": 2
}
